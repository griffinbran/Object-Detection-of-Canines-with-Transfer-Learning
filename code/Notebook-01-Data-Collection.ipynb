{
 "cells": [
  {
   "cell_type": "markdown",
   "metadata": {},
   "source": [
    "### Data Collection and Pre-processing"
   ]
  },
  {
   "cell_type": "code",
   "execution_count": 1,
   "metadata": {},
   "outputs": [],
   "source": [
    "# Installs without warnings in conda env: dsi\n",
    "#!pip install visual_genome"
   ]
  },
  {
   "cell_type": "code",
   "execution_count": 3,
   "metadata": {},
   "outputs": [],
   "source": [
    "import matplotlib.pyplot as plt\n",
    "import numpy as np\n",
    "import json\n",
    "from zipfile import ZipFile\n",
    "# Import OpenCV(cv2 module)\n",
    "import cv2\n",
    "# Import Python's standard utility module 'os' for interacting with Operating System\n",
    "import os\n",
    "# Import the Python wrapper for the VG API\n",
    "from visual_genome import api"
   ]
  },
  {
   "cell_type": "markdown",
   "metadata": {},
   "source": [
    "#### Run cell only once to retrieve all image ID's from Visual Genome API and then store as a txt file for future reference"
   ]
  },
  {
   "cell_type": "code",
   "execution_count": 3,
   "metadata": {},
   "outputs": [],
   "source": [
    "# Retrieve an array of integers representing all VG image ID's from API\n",
    "image_ids = api.get_all_image_ids()\n",
    "\n",
    "# Save array as txt file to bypass API next time\n",
    "with open('../data/image_ids.txt', 'w') as imagehandles:\n",
    "    imagehandles.writelines(\"%s\\n\" % ids for ids in image_ids)"
   ]
  },
  {
   "cell_type": "code",
   "execution_count": 4,
   "metadata": {},
   "outputs": [
    {
     "data": {
      "text/plain": [
       "(108077, list, '1', str)"
      ]
     },
     "execution_count": 4,
     "metadata": {},
     "output_type": "execute_result"
    }
   ],
   "source": [
    "# Load Image ID's from text file\n",
    "with open('../data/image_ids.txt', 'r') as imagehandles:\n",
    "    # Store Image ID's as variable for image pre-processing, removing the endline character in the process\n",
    "    image_ids = [image_id[:-1] for image_id in imagehandles]\n",
    "# Check that all is copacetic\n",
    "len(image_ids), type(image_ids), image_ids[0], type(image_ids[0])"
   ]
  },
  {
   "cell_type": "markdown",
   "metadata": {},
   "source": [
    "The processing method provided by the Visual Genome API, using relation mappings, is too slow to be effective in obtaining the object descriptions."
   ]
  },
  {
   "cell_type": "code",
   "execution_count": 4,
   "metadata": {},
   "outputs": [],
   "source": [
    "# Read objects.json file from Visual Genome, to retrieve the object data for each image\n",
    "with open('../../objects.json', 'r') as objects_json_file:\n",
    "    # Store a list of len(json_objects) = 108_077 dictionaries representing image object data\n",
    "    json_objects = json.load(objects_json_file)"
   ]
  },
  {
   "cell_type": "code",
   "execution_count": 8,
   "metadata": {},
   "outputs": [
    {
     "data": {
      "text/plain": [
       "(108077, list)"
      ]
     },
     "execution_count": 8,
     "metadata": {},
     "output_type": "execute_result"
    }
   ],
   "source": [
    "len(json_objects), type(json_objects)"
   ]
  },
  {
   "cell_type": "code",
   "execution_count": 12,
   "metadata": {},
   "outputs": [
    {
     "name": "stdout",
     "output_type": "stream",
     "text": [
      "Total number of dog images in VG dataset: 3235\n"
     ]
    }
   ],
   "source": [
    "# loop thru each item in list\n",
    "dog_pic_ids = []\n",
    "for image_index in range(len(json_objects)):\n",
    "    # Number of objects\n",
    "    # len(json_objects[image_index]) = 3\n",
    "    # json_objects[image_index].keys() = dict_keys(['image_id', 'objects', 'image_url'])\n",
    "    num_objects = len(json_objects[image_index]['objects'])\n",
    "    # loop through objects_index searching for dog objects\n",
    "    objects_index = 0\n",
    "    # Objects_index lives in range(num_objects)\n",
    "    while objects_index < num_objects:\n",
    "        # Save image_id's of images with dogs\n",
    "        if json_objects[image_index]['objects'][objects_index][ 'names' ] == [  'dog'  ]:\n",
    "      # if json_objects[image_index]['objects'][objects_index]['synsets'] == ['dog.n.01']:\n",
    "    #####NOTICE: INSERT HOT DOG FILTER HERE LOL!\n",
    "            # Save image_id's of images with dogs\n",
    "            image_id = json_objects[image_index]['image_id']\n",
    "            dog_pic_ids.append(image_id)\n",
    "            # Escape 'while-loop' as soon as 'dog'-object found\n",
    "            objects_index = num_objects\n",
    "        else:\n",
    "            # Move on to next object in image, continue searching\n",
    "            objects_index += 1\n",
    "# Check how many dog pics were discovered in the dataset\n",
    "print(f'Total number of dog images in VG dataset: {len(dog_pic_ids)}')\n",
    "# Save dog_pic_ids as txt file to bypass loading object data from json next time\n",
    "with open('../data/dog_pic_ids.txt', 'w') as imagehandles:\n",
    "    imagehandles.writelines(\"%s\\n\" % ids for ids in dog_pic_ids)"
   ]
  },
  {
   "cell_type": "code",
   "execution_count": 21,
   "metadata": {},
   "outputs": [
    {
     "data": {
      "text/plain": [
       "2377385"
      ]
     },
     "execution_count": 21,
     "metadata": {},
     "output_type": "execute_result"
    }
   ],
   "source": [
    "dog_data_part2[0]"
   ]
  },
  {
   "cell_type": "code",
   "execution_count": null,
   "metadata": {},
   "outputs": [],
   "source": [
    "json_objects"
   ]
  },
  {
   "cell_type": "code",
   "execution_count": 19,
   "metadata": {},
   "outputs": [
    {
     "data": {
      "text/plain": [
       "(1, int)"
      ]
     },
     "execution_count": 19,
     "metadata": {},
     "output_type": "execute_result"
    }
   ],
   "source": [
    "json_objects[0]['image_id'], type(json_objects[0]['image_id'])"
   ]
  },
  {
   "cell_type": "code",
   "execution_count": 26,
   "metadata": {},
   "outputs": [],
   "source": [
    "dog_pics_objs_dict2 = []\n",
    "for objects in range(len(json_objects)):\n",
    "    for dog in dog_data_part2:\n",
    "        if json_objects[objects]['image_id'] == dog:\n",
    "            dog_pics_objs_dict2.append(json_objects[objects])"
   ]
  },
  {
   "cell_type": "code",
   "execution_count": 47,
   "metadata": {},
   "outputs": [],
   "source": [
    "dog_pics_objs_dict2[0];"
   ]
  },
  {
   "cell_type": "code",
   "execution_count": 37,
   "metadata": {},
   "outputs": [
    {
     "data": {
      "text/plain": [
       "1026902"
      ]
     },
     "execution_count": 37,
     "metadata": {},
     "output_type": "execute_result"
    }
   ],
   "source": [
    "#dog_pics_objs_dict2[image_index]['objects'][object_index]['synsets']\n",
    "dog_pics_objs_dict2[0]['objects'][0]['object_id']"
   ]
  },
  {
   "cell_type": "code",
   "execution_count": 49,
   "metadata": {},
   "outputs": [
    {
     "name": "stdout",
     "output_type": "stream",
     "text": [
      "1419\n",
      "1419\n"
     ]
    }
   ],
   "source": [
    "dogject_ids = []\n",
    "for image_idx in range(len(dog_pics_objs_dict2)):\n",
    "    for object_idx in range(len(dog_pics_objs_dict2[image_idx]['objects'])):\n",
    "        if dog_pics_objs_dict2[image_idx]['objects'][object_idx]['synsets'] == ['dog.n.01']:\n",
    "            dogject_ids.append(dog_pics_objs_dict2[image_idx]['objects'][object_idx]['object_id'])\n",
    "print(len(dogject_ids))\n",
    "print(len(set(dogject_ids)))"
   ]
  },
  {
   "cell_type": "code",
   "execution_count": 54,
   "metadata": {},
   "outputs": [],
   "source": [
    "dogject_ids.sort()"
   ]
  },
  {
   "cell_type": "markdown",
   "metadata": {},
   "source": [
    "#### Identify and store dog pic image ID's specific to VG Part 2 Dataset"
   ]
  },
  {
   "cell_type": "code",
   "execution_count": 16,
   "metadata": {},
   "outputs": [
    {
     "name": "stdout",
     "output_type": "stream",
     "text": [
      "Number of Dog Pics in VG Part 2 Dataset: 1240\n"
     ]
    }
   ],
   "source": [
    "# NOTICE CODE FROM\n",
    "# https://thispointer.com/python-how-to-get-the-list-of-all-files-in-a-zip-archive/\n",
    "\n",
    "# Prepare to store dog pic image ID's in VG Part 2 Dataset\n",
    "dog_data_part2 = []\n",
    "\n",
    "# ~5.5 GB ZIP Archive, 40% of total data set\n",
    "with ZipFile('../../visual_genome_part2.zip', \"r\") as z:\n",
    "    # One file in zip archive\n",
    "    VG_100K_2 = z.namelist()\n",
    "\n",
    "    # Iterate over image file names, 'VG_100K_2/image_id.jpg'\n",
    "    for ith_image in VG_100K_2: \n",
    "        # Get extension of file, '.jpg'\n",
    "        ext = os.path.splitext(ith_image)[-1]\n",
    "        # Get root of file, root = VG_100K_2/image_id.jpg\n",
    "        root = os.path.splitext(ith_image)[0]\n",
    "        \n",
    "        # Skip over Archive Directory\n",
    "        if (ext == \".jpg\"):\n",
    "            # Skip root[:10]='VG_100K_2' in dog_pic_ids\n",
    "            if int(root[10:]) in dog_pic_ids:\n",
    "                dog_data_part2.append(int(root[10:]))\n",
    "                \n",
    "# Display percent of total dog images that live in VG Part 2 dataset\n",
    "print(f'Number of Dog Pics in VG Part 2 Dataset: {len(dog_data_part2)}')\n",
    "\n",
    "# Save dog_data_part2 as txt file to load in model tuning notebook\n",
    "with open('../data/dog_data_part2.txt', 'w') as imagehandles:\n",
    "    imagehandles.writelines(\"%s\\n\" % ids for ids in dog_data_part2)"
   ]
  },
  {
   "cell_type": "markdown",
   "metadata": {},
   "source": [
    "#### Identify and store dog pic image ID's specific to VG Part 1 Dataset"
   ]
  },
  {
   "cell_type": "code",
   "execution_count": 8,
   "metadata": {},
   "outputs": [
    {
     "name": "stdout",
     "output_type": "stream",
     "text": [
      "Number of Dog Pics in VG Part 1 Dataset: 1995\n"
     ]
    }
   ],
   "source": [
    "dog_data_part1 = []\n",
    "for image_id in dog_pic_ids:\n",
    "    if image_id not in dog_data_part2:\n",
    "        dog_data_part1.append(image_id)\n",
    "print(f'Number of Dog Pics in VG Part 1 Dataset: {len(dog_data_part1)}')\n",
    "\n",
    "# Save dog_data_part2 as txt file to load in model tuning notebook\n",
    "with open('../data/dog_data_part1.txt', 'w') as imagehandles:\n",
    "    imagehandles.writelines(\"%s\\n\" % ids for ids in dog_data_part1)"
   ]
  },
  {
   "cell_type": "code",
   "execution_count": 9,
   "metadata": {},
   "outputs": [
    {
     "name": "stdout",
     "output_type": "stream",
     "text": [
      "Dog pics in each VG dataset identified\n"
     ]
    }
   ],
   "source": [
    "# Check that all  is copacetic\n",
    "if len(dog_data_part1) + len(dog_data_part2) == len(dog_pic_ids):\n",
    "    print('Dog pics in each VG dataset identified')\n",
    "else:\n",
    "    print('Something is wrong')"
   ]
  },
  {
   "cell_type": "code",
   "execution_count": 10,
   "metadata": {},
   "outputs": [
    {
     "name": "stdout",
     "output_type": "stream",
     "text": [
      "Percent of Dog Pics in VG Part 1 Dataset: 61.67%\n",
      "Percent of Dog Pics in VG Part 2 Dataset: 38.33%\n"
     ]
    }
   ],
   "source": [
    "# Display percent of total dog images that live in VG Part 1 dataset\n",
    "print(f'Percent of Dog Pics in VG Part 1 Dataset: {100*len(dog_data_part1)/len(dog_pic_ids):.2f}%')\n",
    "\n",
    "# Display percent of total dog images that live in VG Part 2 dataset\n",
    "print(f'Percent of Dog Pics in VG Part 2 Dataset: {100*len(dog_data_part2)/len(dog_pic_ids):.2f}%')"
   ]
  },
  {
   "cell_type": "markdown",
   "metadata": {},
   "source": [
    "#### Display ****ALL**** Dog Images in Visual Genome Part 2 Dataset:"
   ]
  },
  {
   "cell_type": "code",
   "execution_count": 13,
   "metadata": {},
   "outputs": [],
   "source": [
    "# NOTICE CODE FROM\n",
    "# https://thispointer.com/python-how-to-get-the-list-of-all-files-in-a-zip-archive/\n",
    "\n",
    "# ~5.5 GB ZIP Archive, 40% of total data set\n",
    "with ZipFile('../../visual_genome_part2.zip', \"r\") as z:\n",
    "    # One file in zip archive\n",
    "    VG_100K_2 = z.namelist()\n",
    "\n",
    "    # Iterate over image file names, 'VG_100K_2/image_id.jpg'\n",
    "    for ith_image in VG_100K_2: \n",
    "        # Get extension of file, '.jpg'\n",
    "        ext = os.path.splitext(ith_image)[-1]\n",
    "        # Get root of file, root = VG_100K_2/image_id.jpg\n",
    "        root = os.path.splitext(ith_image)[0]\n",
    "        \n",
    "        # Skip over Archive Directory\n",
    "        if (ext == \".jpg\"):\n",
    "            # Skip root[:10]='VG_100K_2' in dog_pic_ids\n",
    "            if int(root[10:]) in dog_pic_ids:\n",
    "                # Read image binary data of 'VG_100K_2' from zip archive('visual_genome_part2.zip')\n",
    "                in_bytes = z.read(ith_image) # VG_100K_2/\n",
    "                # Decode bytes to image\n",
    "                img = cv2.imdecode(np.frombuffer(in_bytes, np.uint8), cv2.IMREAD_COLOR)\n",
    "    \n",
    "                # Output img with window name as 'image' \n",
    "################# WARNING WARNING WARNING: Running this cell with the following line uncommented will require force kernel restart\n",
    "################# Unless you wait for all images (1240 images * 1 sec hold > 20 minutes!)\n",
    "                #cv2.imshow('img', img)\n",
    "                # Display for 1sec = 1_000ms\n",
    "                #cv2.waitKey(1000)\n",
    "\n",
    "cv2.destroyAllWindows()"
   ]
  },
  {
   "cell_type": "code",
   "execution_count": 12,
   "metadata": {},
   "outputs": [],
   "source": [
    "# Hot Dog filter clearly needed after browsing all pphotos, maybe 6-10 images are actually just hot dogs\n",
    "#for dog in dog_pic_ids:\n",
    "    # Consider what "
   ]
  },
  {
   "cell_type": "code",
   "execution_count": null,
   "metadata": {},
   "outputs": [],
   "source": []
  }
 ],
 "metadata": {
  "kernelspec": {
   "display_name": "Python [conda env:dsi]",
   "language": "python",
   "name": "conda-env-dsi-py"
  },
  "language_info": {
   "codemirror_mode": {
    "name": "ipython",
    "version": 3
   },
   "file_extension": ".py",
   "mimetype": "text/x-python",
   "name": "python",
   "nbconvert_exporter": "python",
   "pygments_lexer": "ipython3",
   "version": "3.8.3"
  }
 },
 "nbformat": 4,
 "nbformat_minor": 4
}
