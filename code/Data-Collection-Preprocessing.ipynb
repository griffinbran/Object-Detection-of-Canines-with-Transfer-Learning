{
 "cells": [
  {
   "cell_type": "markdown",
   "metadata": {},
   "source": [
    "### Data Collection and Pre-processing"
   ]
  },
  {
   "cell_type": "code",
   "execution_count": 1,
   "metadata": {},
   "outputs": [
    {
     "name": "stdout",
     "output_type": "stream",
     "text": [
      "Collecting visual_genome\n",
      "  Using cached visual_genome-1.1.1-py2.py3-none-any.whl (9.6 kB)\n",
      "Requirement already satisfied: requests in c:\\users\\bgrif\\anaconda3\\envs\\dsi\\lib\\site-packages (from visual_genome) (2.24.0)\n",
      "Collecting progressbar2\n",
      "  Using cached progressbar2-3.53.1-py2.py3-none-any.whl (25 kB)\n",
      "Requirement already satisfied: urllib3!=1.25.0,!=1.25.1,<1.26,>=1.21.1 in c:\\users\\bgrif\\anaconda3\\envs\\dsi\\lib\\site-packages (from requests->visual_genome) (1.25.9)\n",
      "Requirement already satisfied: chardet<4,>=3.0.2 in c:\\users\\bgrif\\anaconda3\\envs\\dsi\\lib\\site-packages (from requests->visual_genome) (3.0.4)\n",
      "Requirement already satisfied: idna<3,>=2.5 in c:\\users\\bgrif\\anaconda3\\envs\\dsi\\lib\\site-packages (from requests->visual_genome) (2.10)\n",
      "Requirement already satisfied: certifi>=2017.4.17 in c:\\users\\bgrif\\anaconda3\\envs\\dsi\\lib\\site-packages (from requests->visual_genome) (2020.6.20)\n",
      "Requirement already satisfied: six in c:\\users\\bgrif\\anaconda3\\envs\\dsi\\lib\\site-packages (from progressbar2->visual_genome) (1.15.0)\n",
      "Collecting python-utils>=2.3.0\n",
      "  Using cached python_utils-2.4.0-py2.py3-none-any.whl (12 kB)\n",
      "Installing collected packages: python-utils, progressbar2, visual-genome\n",
      "Successfully installed progressbar2-3.53.1 python-utils-2.4.0 visual-genome-1.1.1\n"
     ]
    }
   ],
   "source": [
    "# Installs without warnings in conda env: dsi\n",
    "!pip install visual_genome"
   ]
  },
  {
   "cell_type": "code",
   "execution_count": 3,
   "metadata": {},
   "outputs": [],
   "source": [
    "import matplotlib.pyplot as plt\n",
    "import numpy as np\n",
    "import json\n",
    "\n",
    "# Import the Python wrapper for the VG API\n",
    "from visual_genome import api"
   ]
  },
  {
   "cell_type": "code",
   "execution_count": 4,
   "metadata": {},
   "outputs": [],
   "source": [
    "# Retrieve an array of integers representing all VG image ID's\n",
    "ids = api.get_all_image_ids()"
   ]
  },
  {
   "cell_type": "markdown",
   "metadata": {},
   "source": [
    "The processing method provided by the Visual Genome API, using relation mappings, is too slow to be effective in obtaining the object descriptions."
   ]
  },
  {
   "cell_type": "code",
   "execution_count": 128,
   "metadata": {},
   "outputs": [],
   "source": [
    "# Read objects.json file downloaded from Visual Genome\n",
    "with open('../../objects.json', 'r') as objects_json_file:\n",
    "    # List with len(json_objects) = 108_077 dictionaries representing images\n",
    "    json_objects = json.load(objects_json_file)"
   ]
  },
  {
   "cell_type": "code",
   "execution_count": 121,
   "metadata": {},
   "outputs": [
    {
     "data": {
      "text/plain": [
       "3235"
      ]
     },
     "execution_count": 121,
     "metadata": {},
     "output_type": "execute_result"
    }
   ],
   "source": [
    "# loop thru each item in list\n",
    "dog_pic_ids = []\n",
    "for image_index in range(len(json_objects)):\n",
    "    # Number of objects\n",
    "    # len(json_objects[image_index]) = 3\n",
    "    # json_objects[image_index].keys() = dict_keys(['image_id', 'objects', 'image_url'])\n",
    "    num_objects = len(json_objects[image_index]['objects'])\n",
    "    # loop through objects_index searching for dog objects\n",
    "    objects_index = 0\n",
    "    # Objects_index lives in range(num_objects)\n",
    "    while objects_index < num_objects:\n",
    "        # Save image_id's of images with dogs\n",
    "        if json_objects[image_index]['objects'][objects_index][ 'names' ] == [  'dog'  ]:\n",
    "      # if json_objects[image_index]['objects'][objects_index]['synsets'] == ['dog.n.01']:\n",
    "            # Save image_id's of images with dogs\n",
    "            image_id = json_objects[image_index]['image_id']\n",
    "            dog_pic_ids.append(image_id)\n",
    "            # Escape 'while-loop' as soon as 'dog'-object found\n",
    "            objects_index = num_objects\n",
    "        else:\n",
    "            # Move on to next object in image, continue searching\n",
    "            objects_index += 1\n",
    "# Check how many dog pics were discovered in the dataset\n",
    "print(len(dog_pic_ids))"
   ]
  },
  {
   "cell_type": "code",
   "execution_count": 123,
   "metadata": {},
   "outputs": [
    {
     "data": {
      "text/plain": [
       "[308, 561, 588, 619, 722, 723, 982, 1386, 1831, 2366]"
      ]
     },
     "execution_count": 123,
     "metadata": {},
     "output_type": "execute_result"
    }
   ],
   "source": [
    "dog_pic_ids[:10]"
   ]
  },
  {
   "cell_type": "code",
   "execution_count": 130,
   "metadata": {},
   "outputs": [
    {
     "ename": "FileNotFoundError",
     "evalue": "[Errno 2] No such file or directory: '../../visual_genome_part2.zip - Shortcut'",
     "output_type": "error",
     "traceback": [
      "\u001b[1;31m---------------------------------------------------------------------------\u001b[0m",
      "\u001b[1;31mFileNotFoundError\u001b[0m                         Traceback (most recent call last)",
      "\u001b[1;32m<ipython-input-130-fb07430d77da>\u001b[0m in \u001b[0;36m<module>\u001b[1;34m\u001b[0m\n\u001b[0;32m      1\u001b[0m \u001b[1;32mimport\u001b[0m \u001b[0mzipfile\u001b[0m\u001b[1;33m\u001b[0m\u001b[1;33m\u001b[0m\u001b[0m\n\u001b[0;32m      2\u001b[0m \u001b[1;34m'../../objects.json'\u001b[0m\u001b[1;33m\u001b[0m\u001b[1;33m\u001b[0m\u001b[0m\n\u001b[1;32m----> 3\u001b[1;33m \u001b[0marchive\u001b[0m \u001b[1;33m=\u001b[0m \u001b[0mzipfile\u001b[0m\u001b[1;33m.\u001b[0m\u001b[0mZipFile\u001b[0m\u001b[1;33m(\u001b[0m\u001b[1;34m'../../visual_genome_part2.zip - Shortcut'\u001b[0m\u001b[1;33m,\u001b[0m \u001b[1;34m'r'\u001b[0m\u001b[1;33m)\u001b[0m\u001b[1;33m\u001b[0m\u001b[1;33m\u001b[0m\u001b[0m\n\u001b[0m\u001b[0;32m      4\u001b[0m \u001b[0mimgdata\u001b[0m \u001b[1;33m=\u001b[0m \u001b[0marchive\u001b[0m\u001b[1;33m.\u001b[0m\u001b[0mread\u001b[0m\u001b[1;33m(\u001b[0m\u001b[1;34m'VG_100k_2/618.jpg'\u001b[0m\u001b[1;33m)\u001b[0m\u001b[1;33m\u001b[0m\u001b[1;33m\u001b[0m\u001b[0m\n",
      "\u001b[1;32m~\\anaconda3\\envs\\dsi\\lib\\zipfile.py\u001b[0m in \u001b[0;36m__init__\u001b[1;34m(self, file, mode, compression, allowZip64, compresslevel, strict_timestamps)\u001b[0m\n\u001b[0;32m   1248\u001b[0m             \u001b[1;32mwhile\u001b[0m \u001b[1;32mTrue\u001b[0m\u001b[1;33m:\u001b[0m\u001b[1;33m\u001b[0m\u001b[1;33m\u001b[0m\u001b[0m\n\u001b[0;32m   1249\u001b[0m                 \u001b[1;32mtry\u001b[0m\u001b[1;33m:\u001b[0m\u001b[1;33m\u001b[0m\u001b[1;33m\u001b[0m\u001b[0m\n\u001b[1;32m-> 1250\u001b[1;33m                     \u001b[0mself\u001b[0m\u001b[1;33m.\u001b[0m\u001b[0mfp\u001b[0m \u001b[1;33m=\u001b[0m \u001b[0mio\u001b[0m\u001b[1;33m.\u001b[0m\u001b[0mopen\u001b[0m\u001b[1;33m(\u001b[0m\u001b[0mfile\u001b[0m\u001b[1;33m,\u001b[0m \u001b[0mfilemode\u001b[0m\u001b[1;33m)\u001b[0m\u001b[1;33m\u001b[0m\u001b[1;33m\u001b[0m\u001b[0m\n\u001b[0m\u001b[0;32m   1251\u001b[0m                 \u001b[1;32mexcept\u001b[0m \u001b[0mOSError\u001b[0m\u001b[1;33m:\u001b[0m\u001b[1;33m\u001b[0m\u001b[1;33m\u001b[0m\u001b[0m\n\u001b[0;32m   1252\u001b[0m                     \u001b[1;32mif\u001b[0m \u001b[0mfilemode\u001b[0m \u001b[1;32min\u001b[0m \u001b[0mmodeDict\u001b[0m\u001b[1;33m:\u001b[0m\u001b[1;33m\u001b[0m\u001b[1;33m\u001b[0m\u001b[0m\n",
      "\u001b[1;31mFileNotFoundError\u001b[0m: [Errno 2] No such file or directory: '../../visual_genome_part2.zip - Shortcut'"
     ]
    }
   ],
   "source": [
    "import zipfile\n",
    "'../../objects.json'\n",
    "archive = zipfile.ZipFile('../../visual_genome_part2.zip - Shortcut', 'r')\n",
    "imgdata = archive.read('VG_100k_2/618.jpg')"
   ]
  },
  {
   "cell_type": "code",
   "execution_count": 129,
   "metadata": {},
   "outputs": [
    {
     "data": {
      "text/plain": [
       "{'image_id': 619,\n",
       " 'objects': [{'synsets': ['street.n.01'],\n",
       "   'h': 286,\n",
       "   'object_id': 1064510,\n",
       "   'merged_object_ids': [],\n",
       "   'names': ['street'],\n",
       "   'w': 794,\n",
       "   'y': 315,\n",
       "   'x': 2},\n",
       "  {'synsets': ['building.n.01'],\n",
       "   'h': 310,\n",
       "   'object_id': 1064522,\n",
       "   'merged_object_ids': [],\n",
       "   'names': ['building'],\n",
       "   'w': 553,\n",
       "   'y': 1,\n",
       "   'x': 242},\n",
       "  {'synsets': [],\n",
       "   'h': 506,\n",
       "   'object_id': 1064518,\n",
       "   'merged_object_ids': [1064504],\n",
       "   'names': ['payphone'],\n",
       "   'w': 316,\n",
       "   'y': 92,\n",
       "   'x': 357},\n",
       "  {'synsets': ['sidewalk.n.01'],\n",
       "   'h': 55,\n",
       "   'object_id': 1064505,\n",
       "   'merged_object_ids': [],\n",
       "   'names': ['sidewalk'],\n",
       "   'w': 633,\n",
       "   'y': 544,\n",
       "   'x': 167},\n",
       "  {'synsets': ['crossing.n.05'],\n",
       "   'h': 181,\n",
       "   'object_id': 1064498,\n",
       "   'merged_object_ids': [],\n",
       "   'names': ['crosswalk'],\n",
       "   'w': 193,\n",
       "   'y': 316,\n",
       "   'x': 0},\n",
       "  {'synsets': ['car.n.01'],\n",
       "   'h': 161,\n",
       "   'object_id': 1064516,\n",
       "   'merged_object_ids': [],\n",
       "   'names': ['car'],\n",
       "   'w': 117,\n",
       "   'y': 325,\n",
       "   'x': 684},\n",
       "  {'synsets': ['garbage.n.01'],\n",
       "   'h': 83,\n",
       "   'object_id': 1064508,\n",
       "   'merged_object_ids': [],\n",
       "   'names': ['garbage'],\n",
       "   'w': 154,\n",
       "   'y': 517,\n",
       "   'x': 12},\n",
       "  {'synsets': ['wall.n.01'],\n",
       "   'h': 317,\n",
       "   'object_id': 1064520,\n",
       "   'merged_object_ids': [],\n",
       "   'names': ['wall'],\n",
       "   'w': 48,\n",
       "   'y': 1,\n",
       "   'x': 246},\n",
       "  {'synsets': ['van.n.05'],\n",
       "   'h': 81,\n",
       "   'object_id': 1064523,\n",
       "   'merged_object_ids': [],\n",
       "   'names': ['van'],\n",
       "   'w': 116,\n",
       "   'y': 243,\n",
       "   'x': 683},\n",
       "  {'synsets': ['person.n.01'],\n",
       "   'h': 127,\n",
       "   'object_id': 1064497,\n",
       "   'merged_object_ids': [],\n",
       "   'names': ['person'],\n",
       "   'w': 44,\n",
       "   'y': 224,\n",
       "   'x': 68},\n",
       "  {'synsets': ['car.n.01'],\n",
       "   'h': 52,\n",
       "   'object_id': 1064506,\n",
       "   'merged_object_ids': [],\n",
       "   'names': ['car'],\n",
       "   'w': 80,\n",
       "   'y': 272,\n",
       "   'x': 290},\n",
       "  {'synsets': ['person.n.01'],\n",
       "   'h': 103,\n",
       "   'object_id': 1064499,\n",
       "   'merged_object_ids': [],\n",
       "   'names': ['person'],\n",
       "   'w': 38,\n",
       "   'y': 232,\n",
       "   'x': 21},\n",
       "  {'synsets': ['sewer.n.01'],\n",
       "   'h': 30,\n",
       "   'object_id': 1064514,\n",
       "   'merged_object_ids': [],\n",
       "   'names': ['sewer'],\n",
       "   'w': 110,\n",
       "   'y': 455,\n",
       "   'x': 97},\n",
       "  {'synsets': ['person.n.01'],\n",
       "   'h': 115,\n",
       "   'object_id': 1064500,\n",
       "   'merged_object_ids': [],\n",
       "   'names': ['person'],\n",
       "   'w': 30,\n",
       "   'y': 225,\n",
       "   'x': 53},\n",
       "  {'synsets': ['awning.n.01'],\n",
       "   'h': 26,\n",
       "   'object_id': 1064503,\n",
       "   'merged_object_ids': [],\n",
       "   'names': ['awning'],\n",
       "   'w': 82,\n",
       "   'y': 165,\n",
       "   'x': 287},\n",
       "  {'synsets': ['woman.n.01'],\n",
       "   'h': 72,\n",
       "   'object_id': 1064513,\n",
       "   'merged_object_ids': [],\n",
       "   'names': ['woman'],\n",
       "   'w': 37,\n",
       "   'y': 251,\n",
       "   'x': 262},\n",
       "  {'synsets': ['jacket.n.01'],\n",
       "   'h': 48,\n",
       "   'object_id': 1064512,\n",
       "   'merged_object_ids': [],\n",
       "   'names': ['jacket'],\n",
       "   'w': 43,\n",
       "   'y': 241,\n",
       "   'x': 68},\n",
       "  {'synsets': ['trouser.n.01'],\n",
       "   'h': 55,\n",
       "   'object_id': 1064511,\n",
       "   'merged_object_ids': [],\n",
       "   'names': ['pants'],\n",
       "   'w': 36,\n",
       "   'y': 287,\n",
       "   'x': 69},\n",
       "  {'synsets': ['clock.n.01'],\n",
       "   'h': 36,\n",
       "   'object_id': 1064519,\n",
       "   'merged_object_ids': [],\n",
       "   'names': ['clock'],\n",
       "   'w': 42,\n",
       "   'y': 119,\n",
       "   'x': 238},\n",
       "  {'synsets': ['dog.n.01'],\n",
       "   'h': 42,\n",
       "   'object_id': 1064507,\n",
       "   'merged_object_ids': [],\n",
       "   'names': ['dog'],\n",
       "   'w': 32,\n",
       "   'y': 324,\n",
       "   'x': 161},\n",
       "  {'synsets': ['grate.n.01'],\n",
       "   'h': 36,\n",
       "   'object_id': 1064521,\n",
       "   'merged_object_ids': [],\n",
       "   'names': ['grate'],\n",
       "   'w': 26,\n",
       "   'y': 549,\n",
       "   'x': 1},\n",
       "  {'synsets': ['telephone.n.01'],\n",
       "   'h': 55,\n",
       "   'object_id': 1064509,\n",
       "   'merged_object_ids': [],\n",
       "   'names': ['phone'],\n",
       "   'w': 22,\n",
       "   'y': 333,\n",
       "   'x': 489},\n",
       "  {'synsets': ['logo.n.01'],\n",
       "   'h': 17,\n",
       "   'object_id': 1064502,\n",
       "   'merged_object_ids': [],\n",
       "   'names': ['logo'],\n",
       "   'w': 50,\n",
       "   'y': 169,\n",
       "   'x': 318},\n",
       "  {'synsets': ['person.n.01'],\n",
       "   'h': 84,\n",
       "   'object_id': 1064501,\n",
       "   'merged_object_ids': [],\n",
       "   'names': ['person'],\n",
       "   'w': 18,\n",
       "   'y': 232,\n",
       "   'x': 0},\n",
       "  {'synsets': ['sign.n.02'],\n",
       "   'h': 10,\n",
       "   'object_id': 1064517,\n",
       "   'merged_object_ids': [],\n",
       "   'names': ['sign'],\n",
       "   'w': 31,\n",
       "   'y': 173,\n",
       "   'x': 60},\n",
       "  {'synsets': ['traffic_light.n.01'],\n",
       "   'h': 9,\n",
       "   'object_id': 1064524,\n",
       "   'merged_object_ids': [],\n",
       "   'names': ['traffic signal'],\n",
       "   'w': 12,\n",
       "   'y': 155,\n",
       "   'x': 64},\n",
       "  {'synsets': ['emblem.n.01'],\n",
       "   'h': 11,\n",
       "   'object_id': 1064515,\n",
       "   'merged_object_ids': [],\n",
       "   'names': ['emblem'],\n",
       "   'w': 16,\n",
       "   'y': 369,\n",
       "   'x': 736}],\n",
       " 'image_url': 'https://cs.stanford.edu/people/rak248/VG_100K_2/619.jpg'}"
      ]
     },
     "execution_count": 129,
     "metadata": {},
     "output_type": "execute_result"
    }
   ],
   "source": [
    "json_objects[618]"
   ]
  },
  {
   "cell_type": "code",
   "execution_count": null,
   "metadata": {},
   "outputs": [],
   "source": []
  }
 ],
 "metadata": {
  "kernelspec": {
   "display_name": "Python [conda env:dsi]",
   "language": "python",
   "name": "conda-env-dsi-py"
  },
  "language_info": {
   "codemirror_mode": {
    "name": "ipython",
    "version": 3
   },
   "file_extension": ".py",
   "mimetype": "text/x-python",
   "name": "python",
   "nbconvert_exporter": "python",
   "pygments_lexer": "ipython3",
   "version": "3.8.3"
  }
 },
 "nbformat": 4,
 "nbformat_minor": 4
}
