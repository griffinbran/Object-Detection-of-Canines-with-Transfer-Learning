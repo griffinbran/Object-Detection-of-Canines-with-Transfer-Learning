{
 "cells": [
  {
   "cell_type": "markdown",
   "metadata": {},
   "source": [
    "### Data Collection and Pre-processing"
   ]
  },
  {
   "cell_type": "code",
   "execution_count": 1,
   "metadata": {},
   "outputs": [
    {
     "name": "stdout",
     "output_type": "stream",
     "text": [
      "Collecting visual_genome\n",
      "  Using cached visual_genome-1.1.1-py2.py3-none-any.whl (9.6 kB)\n",
      "Requirement already satisfied: requests in c:\\users\\bgrif\\anaconda3\\envs\\dsi\\lib\\site-packages (from visual_genome) (2.24.0)\n",
      "Collecting progressbar2\n",
      "  Using cached progressbar2-3.53.1-py2.py3-none-any.whl (25 kB)\n",
      "Requirement already satisfied: urllib3!=1.25.0,!=1.25.1,<1.26,>=1.21.1 in c:\\users\\bgrif\\anaconda3\\envs\\dsi\\lib\\site-packages (from requests->visual_genome) (1.25.9)\n",
      "Requirement already satisfied: chardet<4,>=3.0.2 in c:\\users\\bgrif\\anaconda3\\envs\\dsi\\lib\\site-packages (from requests->visual_genome) (3.0.4)\n",
      "Requirement already satisfied: idna<3,>=2.5 in c:\\users\\bgrif\\anaconda3\\envs\\dsi\\lib\\site-packages (from requests->visual_genome) (2.10)\n",
      "Requirement already satisfied: certifi>=2017.4.17 in c:\\users\\bgrif\\anaconda3\\envs\\dsi\\lib\\site-packages (from requests->visual_genome) (2020.6.20)\n",
      "Requirement already satisfied: six in c:\\users\\bgrif\\anaconda3\\envs\\dsi\\lib\\site-packages (from progressbar2->visual_genome) (1.15.0)\n",
      "Collecting python-utils>=2.3.0\n",
      "  Using cached python_utils-2.4.0-py2.py3-none-any.whl (12 kB)\n",
      "Installing collected packages: python-utils, progressbar2, visual-genome\n",
      "Successfully installed progressbar2-3.53.1 python-utils-2.4.0 visual-genome-1.1.1\n"
     ]
    }
   ],
   "source": [
    "# Installs without warnings in conda env: dsi\n",
    "#!pip install visual_genome"
   ]
  },
  {
   "cell_type": "code",
   "execution_count": 1,
   "metadata": {},
   "outputs": [],
   "source": [
    "import matplotlib.pyplot as plt\n",
    "import numpy as np\n",
    "import json\n",
    "from zipfile import ZipFile\n",
    "# Import OpenCV(cv2 module)\n",
    "import cv2\n",
    "# Import Python's standard utility module 'os' for interacting with Operating System\n",
    "import os\n",
    "# Import the Python wrapper for the VG API\n",
    "from visual_genome import api"
   ]
  },
  {
   "cell_type": "markdown",
   "metadata": {},
   "source": [
    "#### Run cell only once to retrieve all image ID's from Visual Genome API and then store as a txt file for future reference"
   ]
  },
  {
   "cell_type": "code",
   "execution_count": 2,
   "metadata": {},
   "outputs": [],
   "source": [
    "# Retrieve an array of integers representing all VG image ID's from API\n",
    "image_ids = api.get_all_image_ids()\n",
    "\n",
    "# Save array as txt file to bypass API next time\n",
    "with open('../data/image_ids.txt', 'w') as imagehandles:\n",
    "    imagehandles.writelines(\"%s\\n\" % ids for ids in image_ids)"
   ]
  },
  {
   "cell_type": "code",
   "execution_count": 8,
   "metadata": {},
   "outputs": [
    {
     "data": {
      "text/plain": [
       "(108077, list, '4001', str)"
      ]
     },
     "execution_count": 8,
     "metadata": {},
     "output_type": "execute_result"
    }
   ],
   "source": [
    "# Load Image ID's from text file\n",
    "with open('../data/image_ids.txt', 'r') as imagehandles:\n",
    "    # Store Image ID's as variable for image pre-processing, removing the endline character in the process\n",
    "    image_ids = [image_id[:-1] for image_id in imagehandles]\n",
    "# Check that all is copacetic\n",
    "len(image_ids), type(image_ids), image_ids[0], type(image_ids[0])"
   ]
  },
  {
   "cell_type": "markdown",
   "metadata": {},
   "source": [
    "The processing method provided by the Visual Genome API, using relation mappings, is too slow to be effective in obtaining the object descriptions."
   ]
  },
  {
   "cell_type": "code",
   "execution_count": 2,
   "metadata": {},
   "outputs": [],
   "source": [
    "# Read objects.json file from Visual Genome, to retrieve the object data for each image\n",
    "with open('../../objects.json', 'r') as objects_json_file:\n",
    "    # Store a list of len(json_objects) = 108_077 dictionaries representing image object data\n",
    "    json_objects = json.load(objects_json_file)"
   ]
  },
  {
   "cell_type": "code",
   "execution_count": 3,
   "metadata": {},
   "outputs": [
    {
     "name": "stdout",
     "output_type": "stream",
     "text": [
      "Total number of dog images in VG dataset: 3235\n"
     ]
    }
   ],
   "source": [
    "# loop thru each item in list\n",
    "dog_pic_ids = []\n",
    "for image_index in range(len(json_objects)):\n",
    "    # Number of objects\n",
    "    # len(json_objects[image_index]) = 3\n",
    "    # json_objects[image_index].keys() = dict_keys(['image_id', 'objects', 'image_url'])\n",
    "    num_objects = len(json_objects[image_index]['objects'])\n",
    "    # loop through objects_index searching for dog objects\n",
    "    objects_index = 0\n",
    "    # Objects_index lives in range(num_objects)\n",
    "    while objects_index < num_objects:\n",
    "        # Save image_id's of images with dogs\n",
    "        if json_objects[image_index]['objects'][objects_index][ 'names' ] == [  'dog'  ]:\n",
    "      # if json_objects[image_index]['objects'][objects_index]['synsets'] == ['dog.n.01']:\n",
    "    #####NOTICE: INSERT HOT DOG FILTER HERE LOL!\n",
    "            # Save image_id's of images with dogs\n",
    "            image_id = json_objects[image_index]['image_id']\n",
    "            dog_pic_ids.append(image_id)\n",
    "            # Escape 'while-loop' as soon as 'dog'-object found\n",
    "            objects_index = num_objects\n",
    "        else:\n",
    "            # Move on to next object in image, continue searching\n",
    "            objects_index += 1\n",
    "# Check how many dog pics were discovered in the dataset\n",
    "print(f'Total number of dog images in VG dataset: {len(dog_pic_ids)}')\n",
    "# Save dog_pic_ids as txt file to bypass loading object data from json next time\n",
    "with open('../data/dog_pic_ids.txt', 'w') as imagehandles:\n",
    "    imagehandles.writelines(\"%s\\n\" % ids for ids in dog_pic_ids)"
   ]
  },
  {
   "cell_type": "markdown",
   "metadata": {},
   "source": [
    "#### Display Dog Images in VG Part 2 Dataset:"
   ]
  },
  {
   "cell_type": "code",
   "execution_count": 4,
   "metadata": {},
   "outputs": [],
   "source": [
    "# NOTICE CODE FROM\n",
    "# https://thispointer.com/python-how-to-get-the-list-of-all-files-in-a-zip-archive/\n",
    "\n",
    "# ~5.5 GB ZIP Archive, 40% of total data set\n",
    "with ZipFile('../../visual_genome_part2.zip', \"r\") as z:\n",
    "    # One file in zip archive\n",
    "    VG_100K_2 = z.namelist()\n",
    "\n",
    "    # Iterate over image file names, 'VG_100K_2/image_id.jpg'\n",
    "    for ith_image in VG_100K_2: \n",
    "        # Get extension of file, '.jpg'\n",
    "        ext = os.path.splitext(ith_image)[-1]\n",
    "        # Get root of file, root = VG_100K_2/image_id.jpg\n",
    "        root = os.path.splitext(ith_image)[0]\n",
    "        \n",
    "        # Skip over Archive Directory\n",
    "        if (ext == \".jpg\"):\n",
    "            # Skip root[:10]='VG_100K_2' in dog_pic_ids\n",
    "            if int(root[10:]) in dog_pic_ids:\n",
    "                # Read image binary data of 'VG_100K_2' from zip archive('visual_genome_part2.zip')\n",
    "                in_bytes = z.read(ith_image) # VG_100K_2/\n",
    "                # Decode bytes to image\n",
    "                img = cv2.imdecode(np.frombuffer(in_bytes, np.uint8), cv2.IMREAD_COLOR)\n",
    "    \n",
    "                # Output img with window name as 'image' \n",
    "                cv2.imshow('img', img)\n",
    "                # Display for 1sec = 1_000ms\n",
    "                cv2.waitKey(1000)\n",
    "\n",
    "cv2.destroyAllWindows()"
   ]
  },
  {
   "cell_type": "markdown",
   "metadata": {},
   "source": [
    "#### Identify and store dog pic image ID's specific to VG Part 2 Dataset"
   ]
  },
  {
   "cell_type": "code",
   "execution_count": 5,
   "metadata": {},
   "outputs": [
    {
     "name": "stdout",
     "output_type": "stream",
     "text": [
      "Number of Dog Pics in VG Part 2 Dataset: 1240\n"
     ]
    }
   ],
   "source": [
    "# NOTICE CODE FROM\n",
    "# https://thispointer.com/python-how-to-get-the-list-of-all-files-in-a-zip-archive/\n",
    "\n",
    "# Prepare to store dog pic image ID's in VG Part 2 Dataset\n",
    "dog_data_part2 = []\n",
    "\n",
    "# ~5.5 GB ZIP Archive, 40% of total data set\n",
    "with ZipFile('../../visual_genome_part2.zip', \"r\") as z:\n",
    "    # One file in zip archive\n",
    "    VG_100K_2 = z.namelist()\n",
    "\n",
    "    # Iterate over image file names, 'VG_100K_2/image_id.jpg'\n",
    "    for ith_image in VG_100K_2: \n",
    "        # Get extension of file, '.jpg'\n",
    "        ext = os.path.splitext(ith_image)[-1]\n",
    "        # Get root of file, root = VG_100K_2/image_id.jpg\n",
    "        root = os.path.splitext(ith_image)[0]\n",
    "        \n",
    "        # Skip over Archive Directory\n",
    "        if (ext == \".jpg\"):\n",
    "            # Skip root[:10]='VG_100K_2' in dog_pic_ids\n",
    "            if int(root[10:]) in dog_pic_ids:\n",
    "                dog_data_part2.append(int(root[10:]))\n",
    "                \n",
    "# Display percent of total dog images that live in VG Part 2 dataset\n",
    "print(f'Number of Dog Pics in VG Part 2 Dataset: {len(dog_data_part2)}')\n",
    "\n",
    "# Save dog_data_part2 as txt file to load in model tuning notebook\n",
    "with open('../data/dog_data_part2.txt', 'w') as imagehandles:\n",
    "    imagehandles.writelines(\"%s\\n\" % ids for ids in dog_data_part2)"
   ]
  },
  {
   "cell_type": "markdown",
   "metadata": {},
   "source": [
    "#### Identify and store dog pic image ID's specific to VG Part 1 Dataset"
   ]
  },
  {
   "cell_type": "code",
   "execution_count": 6,
   "metadata": {},
   "outputs": [
    {
     "name": "stdout",
     "output_type": "stream",
     "text": [
      "Number of Dog Pics in VG Part 1 Dataset: 1995\n"
     ]
    }
   ],
   "source": [
    "dog_data_part1 = []\n",
    "for image_id in dog_pic_ids:\n",
    "    if image_id not in dog_data_part2:\n",
    "        dog_data_part1.append(image_id)\n",
    "print(f'Number of Dog Pics in VG Part 1 Dataset: {len(dog_data_part1)}')\n",
    "\n",
    "# Save dog_data_part2 as txt file to load in model tuning notebook\n",
    "with open('../data/dog_data_part1.txt', 'w') as imagehandles:\n",
    "    imagehandles.writelines(\"%s\\n\" % ids for ids in dog_data_part1)"
   ]
  },
  {
   "cell_type": "code",
   "execution_count": 7,
   "metadata": {},
   "outputs": [
    {
     "name": "stdout",
     "output_type": "stream",
     "text": [
      "Dog pics in each VG dataset identified\n"
     ]
    }
   ],
   "source": [
    "# Check that all  is copacetic\n",
    "if len(dog_data_part1) + len(dog_data_part2) == len(dog_pic_ids):\n",
    "    print('Dog pics in each VG dataset identified')\n",
    "else:\n",
    "    print('Something is wrong')"
   ]
  },
  {
   "cell_type": "code",
   "execution_count": 8,
   "metadata": {},
   "outputs": [
    {
     "name": "stdout",
     "output_type": "stream",
     "text": [
      "Percent of Dog Pics in VG Part 1 Dataset: 61.67%\n",
      "Percent of Dog Pics in VG Part 2 Dataset: 38.33%\n"
     ]
    }
   ],
   "source": [
    "# Display percent of total dog images that live in VG Part 1 dataset\n",
    "print(f'Percent of Dog Pics in VG Part 1 Dataset: {100*len(dog_data_part1)/len(dog_pic_ids):.2f}%')\n",
    "\n",
    "# Display percent of total dog images that live in VG Part 2 dataset\n",
    "print(f'Percent of Dog Pics in VG Part 2 Dataset: {100*len(dog_data_part2)/len(dog_pic_ids):.2f}%')"
   ]
  },
  {
   "cell_type": "code",
   "execution_count": 9,
   "metadata": {},
   "outputs": [
    {
     "name": "stdout",
     "output_type": "stream",
     "text": [
      "VG_100K_2/\n",
      "VG_100K_2/\n"
     ]
    },
    {
     "ename": "error",
     "evalue": "OpenCV(4.4.0) C:\\Users\\appveyor\\AppData\\Local\\Temp\\1\\pip-req-build-wwma2wne\\opencv\\modules\\highgui\\src\\window.cpp:376: error: (-215:Assertion failed) size.width>0 && size.height>0 in function 'cv::imshow'\n",
     "output_type": "error",
     "traceback": [
      "\u001b[1;31m---------------------------------------------------------------------------\u001b[0m",
      "\u001b[1;31merror\u001b[0m                                     Traceback (most recent call last)",
      "\u001b[1;32m<ipython-input-9-557e90063dd9>\u001b[0m in \u001b[0;36m<module>\u001b[1;34m\u001b[0m\n\u001b[0;32m     12\u001b[0m \u001b[1;33m\u001b[0m\u001b[0m\n\u001b[0;32m     13\u001b[0m                 \u001b[1;31m# Output img with window name as 'image'\u001b[0m\u001b[1;33m\u001b[0m\u001b[1;33m\u001b[0m\u001b[1;33m\u001b[0m\u001b[0m\n\u001b[1;32m---> 14\u001b[1;33m                 \u001b[0mcv2\u001b[0m\u001b[1;33m.\u001b[0m\u001b[0mimshow\u001b[0m\u001b[1;33m(\u001b[0m\u001b[1;34m'image'\u001b[0m\u001b[1;33m,\u001b[0m \u001b[0mimg\u001b[0m\u001b[1;33m)\u001b[0m\u001b[1;33m\u001b[0m\u001b[1;33m\u001b[0m\u001b[0m\n\u001b[0m\u001b[0;32m     15\u001b[0m \u001b[1;33m\u001b[0m\u001b[0m\n\u001b[0;32m     16\u001b[0m                 \u001b[1;31m# Maintain output window utill\u001b[0m\u001b[1;33m\u001b[0m\u001b[1;33m\u001b[0m\u001b[1;33m\u001b[0m\u001b[0m\n",
      "\u001b[1;31merror\u001b[0m: OpenCV(4.4.0) C:\\Users\\appveyor\\AppData\\Local\\Temp\\1\\pip-req-build-wwma2wne\\opencv\\modules\\highgui\\src\\window.cpp:376: error: (-215:Assertion failed) size.width>0 && size.height>0 in function 'cv::imshow'\n"
     ]
    }
   ],
   "source": [
    "with ZipFile('../../visual_genome_part2.zip', 'r') as z:\n",
    "    for filename in z.namelist():\n",
    "        if not os.path.isdir(filename):\n",
    "            print(filename)\n",
    "            # read the file\n",
    "            with z.open(filename) as f:\n",
    "                print(filename)\n",
    "                #imgdata = f.read('617.jpg')\n",
    "                # Save image in set directory \n",
    "                # Load RGB image \n",
    "                img = cv2.imread('617.jpg')\n",
    "               \n",
    "                # Output img with window name as 'image' \n",
    "                cv2.imshow('image', img)  \n",
    "\n",
    "                # Maintain output window utill \n",
    "                # user presses a key \n",
    "                cv2.waitKey(0)         \n",
    "\n",
    "                # Destroying present windows on screen \n",
    "                cv2.destroyAllWindows()"
   ]
  },
  {
   "cell_type": "code",
   "execution_count": null,
   "metadata": {},
   "outputs": [],
   "source": [
    "with zipfile.ZipFile('../../visual_genome_part2.zip', 'r') as zfile:\n",
    "    data = f.read('1.jpg')\n",
    "\n",
    "img = cv2.imdecode(np.frombuffer(data, np.uint8), 1)    "
   ]
  },
  {
   "cell_type": "code",
   "execution_count": null,
   "metadata": {},
   "outputs": [],
   "source": [
    "import os\n",
    "import zipfile\n",
    "\n",
    "# importing matplotlib modules \n",
    "import matplotlib.image as mpimg\n",
    "\n",
    "with zipfile.ZipFile('../../visual_genome_part2.zip', 'r') as z2:\n",
    "    for filename in z2.namelist():\n",
    "        if not os.path.isdir(filename):\n",
    "            # read the file\n",
    "            with z2.open(filename) as f:\n",
    "                #imgdata = f.read('617.jpg')\n",
    "                # Save image in set directory \n",
    "                # Read RGB image \n",
    "                img = mpimg.imread('617.jpg')\n",
    "                # Output img with window name as 'image' \n",
    "                plt.imshow('image', img)"
   ]
  },
  {
   "cell_type": "code",
   "execution_count": null,
   "metadata": {},
   "outputs": [],
   "source": [
    "type(img)"
   ]
  },
  {
   "cell_type": "code",
   "execution_count": null,
   "metadata": {},
   "outputs": [],
   "source": [
    "# Output img with window name as 'image' \n",
    "cv2.imshow('image', img)  \n",
    "  \n",
    "# Maintain output window utill \n",
    "# user presses a key \n",
    "cv2.waitKey(0)         \n",
    "  \n",
    "# Destroying present windows on screen \n",
    "cv2.destroyAllWindows()"
   ]
  },
  {
   "cell_type": "code",
   "execution_count": null,
   "metadata": {},
   "outputs": [],
   "source": [
    "json_objects[617]\n",
    "dog_pic_ids[0]"
   ]
  },
  {
   "cell_type": "code",
   "execution_count": null,
   "metadata": {},
   "outputs": [],
   "source": [
    "# Hot Dog filter\n",
    "#for dog in dog_pic_ids:\n",
    "    # Consider what "
   ]
  }
 ],
 "metadata": {
  "kernelspec": {
   "display_name": "Python [conda env:dsi]",
   "language": "python",
   "name": "conda-env-dsi-py"
  },
  "language_info": {
   "codemirror_mode": {
    "name": "ipython",
    "version": 3
   },
   "file_extension": ".py",
   "mimetype": "text/x-python",
   "name": "python",
   "nbconvert_exporter": "python",
   "pygments_lexer": "ipython3",
   "version": "3.8.3"
  }
 },
 "nbformat": 4,
 "nbformat_minor": 4
}
