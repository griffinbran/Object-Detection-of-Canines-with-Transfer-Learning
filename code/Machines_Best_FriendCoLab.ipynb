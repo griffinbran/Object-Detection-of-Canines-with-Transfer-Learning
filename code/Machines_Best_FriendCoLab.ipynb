{
 "cells": [
  {
   "cell_type": "markdown",
   "metadata": {
    "colab_type": "text",
    "id": "view-in-github"
   },
   "source": [
    "<a href=\"https://colab.research.google.com/github/griffinbran/machines_best_friend/blob/main/Machines_Best_FriendCoLab.ipynb\" target=\"_parent\"><img src=\"https://colab.research.google.com/assets/colab-badge.svg\" alt=\"Open In Colab\"/></a>"
   ]
  },
  {
   "cell_type": "markdown",
   "metadata": {
    "id": "qusbZlLFB23m"
   },
   "source": [
    "# Imports\n"
   ]
  },
  {
   "cell_type": "code",
   "execution_count": 2,
   "metadata": {
    "colab": {
     "base_uri": "https://localhost:8080/"
    },
    "id": "1X4obCLSXjbx",
    "outputId": "5aa38547-a90a-4ef1-95ac-bdaf51c58791"
   },
   "outputs": [
    {
     "name": "stdout",
     "output_type": "stream",
     "text": [
      "Collecting visual_genome\n",
      "  Downloading https://files.pythonhosted.org/packages/35/fb/a05a63edea9978a56fb25a07d7f0b91e2f3cd6e1ec890c2f9447c260f6a8/visual_genome-1.1.1-py2.py3-none-any.whl\n",
      "Requirement already satisfied: requests in /usr/local/lib/python3.6/dist-packages (from visual_genome) (2.23.0)\n",
      "Requirement already satisfied: progressbar2 in /usr/local/lib/python3.6/dist-packages (from visual_genome) (3.38.0)\n",
      "Requirement already satisfied: idna<3,>=2.5 in /usr/local/lib/python3.6/dist-packages (from requests->visual_genome) (2.10)\n",
      "Requirement already satisfied: chardet<4,>=3.0.2 in /usr/local/lib/python3.6/dist-packages (from requests->visual_genome) (3.0.4)\n",
      "Requirement already satisfied: urllib3!=1.25.0,!=1.25.1,<1.26,>=1.21.1 in /usr/local/lib/python3.6/dist-packages (from requests->visual_genome) (1.24.3)\n",
      "Requirement already satisfied: certifi>=2017.4.17 in /usr/local/lib/python3.6/dist-packages (from requests->visual_genome) (2020.11.8)\n",
      "Requirement already satisfied: six in /usr/local/lib/python3.6/dist-packages (from progressbar2->visual_genome) (1.15.0)\n",
      "Requirement already satisfied: python-utils>=2.3.0 in /usr/local/lib/python3.6/dist-packages (from progressbar2->visual_genome) (2.4.0)\n",
      "Installing collected packages: visual-genome\n",
      "Successfully installed visual-genome-1.1.1\n"
     ]
    }
   ],
   "source": [
    "!pip install visual_genome"
   ]
  },
  {
   "cell_type": "code",
   "execution_count": null,
   "metadata": {
    "id": "MhtRS60IB-es"
   },
   "outputs": [],
   "source": [
    "import os \n",
    "import zipfile \n",
    "import tensorflow as tf \n",
    "from tensorflow.keras.preprocessing.image import ImageDataGenerator \n",
    "from tensorflow.keras import layers \n",
    "from tensorflow.keras import Model \n",
    "import matplotlib.pyplot as plt\n",
    "\n",
    "# Import the Python wrapper for the VG API\n",
    "from visual_genome import api"
   ]
  },
  {
   "cell_type": "code",
   "execution_count": 5,
   "metadata": {
    "colab": {
     "base_uri": "https://localhost:8080/"
    },
    "id": "my6qqN8oB8Cj",
    "outputId": "167aceda-3af6-47b2-f02a-6969cf191c5b"
   },
   "outputs": [
    {
     "name": "stdout",
     "output_type": "stream",
     "text": [
      "1\n"
     ]
    }
   ],
   "source": [
    "# Retrieve an array of integers representing all VG image ID's\n",
    "ids = api.get_all_image_ids()\n",
    "\n",
    "# Image-0: ID = 1\n",
    "print(ids[0])"
   ]
  },
  {
   "cell_type": "code",
   "execution_count": 39,
   "metadata": {
    "colab": {
     "base_uri": "https://localhost:8080/",
     "height": 308
    },
    "id": "gI-TWmxJX672",
    "outputId": "6f7c1a4c-9e62-499b-e58f-71eaa1489d71"
   },
   "outputs": [
    {
     "ename": "TypeError",
     "evalue": "ignored",
     "output_type": "error",
     "traceback": [
      "\u001b[0;31m---------------------------------------------------------------------------\u001b[0m",
      "\u001b[0;31mTypeError\u001b[0m                                 Traceback (most recent call last)",
      "\u001b[0;32m<ipython-input-39-bd2ab2aff610>\u001b[0m in \u001b[0;36m<module>\u001b[0;34m()\u001b[0m\n\u001b[1;32m      1\u001b[0m \u001b[0;31m#api.get_image_ids_in_range(startIndex=2000, endIndex=2010)\u001b[0m\u001b[0;34m\u001b[0m\u001b[0;34m\u001b[0m\u001b[0;34m\u001b[0m\u001b[0m\n\u001b[0;32m----> 2\u001b[0;31m \u001b[0mapi\u001b[0m\u001b[0;34m.\u001b[0m\u001b[0mget_image_ids_in_range\u001b[0m\u001b[0;34m(\u001b[0m\u001b[0mstart_index\u001b[0m\u001b[0;34m=\u001b[0m\u001b[0;36m2000\u001b[0m\u001b[0;34m,\u001b[0m \u001b[0mend_index\u001b[0m\u001b[0;34m=\u001b[0m\u001b[0;36m2010\u001b[0m\u001b[0;34m)\u001b[0m\u001b[0;34m\u001b[0m\u001b[0;34m\u001b[0m\u001b[0m\n\u001b[0m",
      "\u001b[0;32m/usr/local/lib/python3.6/dist-packages/visual_genome/api.py\u001b[0m in \u001b[0;36mget_image_ids_in_range\u001b[0;34m(start_index, end_index)\u001b[0m\n\u001b[1;32m     28\u001b[0m     \u001b[0mendPage\u001b[0m \u001b[0;34m=\u001b[0m \u001b[0mend_index\u001b[0m \u001b[0;34m/\u001b[0m \u001b[0mids_per_page\u001b[0m \u001b[0;34m+\u001b[0m \u001b[0;36m1\u001b[0m\u001b[0;34m\u001b[0m\u001b[0;34m\u001b[0m\u001b[0m\n\u001b[1;32m     29\u001b[0m     \u001b[0mids\u001b[0m \u001b[0;34m=\u001b[0m \u001b[0;34m[\u001b[0m\u001b[0;34m]\u001b[0m\u001b[0;34m\u001b[0m\u001b[0;34m\u001b[0m\u001b[0m\n\u001b[0;32m---> 30\u001b[0;31m     \u001b[0;32mfor\u001b[0m \u001b[0mpage\u001b[0m \u001b[0;32min\u001b[0m \u001b[0mrange\u001b[0m\u001b[0;34m(\u001b[0m\u001b[0mstart_page\u001b[0m\u001b[0;34m,\u001b[0m \u001b[0mendPage\u001b[0m \u001b[0;34m+\u001b[0m \u001b[0;36m1\u001b[0m\u001b[0;34m)\u001b[0m\u001b[0;34m:\u001b[0m\u001b[0;34m\u001b[0m\u001b[0;34m\u001b[0m\u001b[0m\n\u001b[0m\u001b[1;32m     31\u001b[0m         \u001b[0mdata\u001b[0m \u001b[0;34m=\u001b[0m \u001b[0mutils\u001b[0m\u001b[0;34m.\u001b[0m\u001b[0mretrieve_data\u001b[0m\u001b[0;34m(\u001b[0m\u001b[0;34m'/api/v0/images/all?page='\u001b[0m \u001b[0;34m+\u001b[0m \u001b[0mstr\u001b[0m\u001b[0;34m(\u001b[0m\u001b[0mpage\u001b[0m\u001b[0;34m)\u001b[0m\u001b[0;34m)\u001b[0m\u001b[0;34m\u001b[0m\u001b[0;34m\u001b[0m\u001b[0m\n\u001b[1;32m     32\u001b[0m         \u001b[0mids\u001b[0m\u001b[0;34m.\u001b[0m\u001b[0mextend\u001b[0m\u001b[0;34m(\u001b[0m\u001b[0mdata\u001b[0m\u001b[0;34m[\u001b[0m\u001b[0;34m'results'\u001b[0m\u001b[0;34m]\u001b[0m\u001b[0;34m)\u001b[0m\u001b[0;34m\u001b[0m\u001b[0;34m\u001b[0m\u001b[0m\n",
      "\u001b[0;31mTypeError\u001b[0m: 'float' object cannot be interpreted as an integer"
     ]
    }
   ],
   "source": [
    "#api.get_image_ids_in_range(startIndex=2000, endIndex=2010)\n",
    "api.get_image_ids_in_range(start_index=2000, end_index=2010)"
   ]
  },
  {
   "cell_type": "code",
   "execution_count": 10,
   "metadata": {
    "colab": {
     "base_uri": "https://localhost:8080/"
    },
    "id": "cIlWfT-iadan",
    "outputId": "465adce3-1520-4c23-bcd5-b339505879c4"
   },
   "outputs": [
    {
     "name": "stdout",
     "output_type": "stream",
     "text": [
      "id: 1, coco_id: -1, flickr_id: -1, width: 800, url: https://cs.stanford.edu/people/rak248/VG_100K_2/1.jpg\n"
     ]
    }
   ],
   "source": [
    "# image model\n",
    "image = api.get_image_data(id=1)\n",
    "print(image)"
   ]
  },
  {
   "cell_type": "code",
   "execution_count": 13,
   "metadata": {
    "colab": {
     "base_uri": "https://localhost:8080/"
    },
    "id": "457shwUkagOO",
    "outputId": "60b7491a-f242-488c-d5b3-b16ab920ada5"
   },
   "outputs": [
    {
     "data": {
      "text/plain": [
       "(600, 800)"
      ]
     },
     "execution_count": 13,
     "metadata": {
      "tags": []
     },
     "output_type": "execute_result"
    }
   ],
   "source": [
    "image.height, image.width"
   ]
  },
  {
   "cell_type": "code",
   "execution_count": 23,
   "metadata": {
    "colab": {
     "base_uri": "https://localhost:8080/"
    },
    "id": "GPouMGsmbqha",
    "outputId": "5d8a5449-f8bc-4c1d-8717-d4d184f302c5"
   },
   "outputs": [
    {
     "name": "stdout",
     "output_type": "stream",
     "text": [
      "The first region description is: the clock is green in colour\n",
      "Specified bounding box location: x:421, y:57, width:82, height:139 pixels\n",
      "id: 1382, x: 421, y: 57, width: 82,height: 139, phrase: the clock is green in colour, image: 1\n"
     ]
    }
   ],
   "source": [
    "# Region Descriptions: Dense textual descriptions of a particular region of an image\n",
    "regions = api.get_region_descriptions_of_image(id=1) #Retreives array of \"region objects\"\n",
    "print(f'The first region description is: {regions[0].phrase}')\n",
    "print(f'Specified bounding box location: x:{regions[0].x}, y:{regions[0].y}, width:{regions[0].width}, height:{regions[0].height} pixels')\n",
    "print(regions[0])"
   ]
  },
  {
   "cell_type": "code",
   "execution_count": 19,
   "metadata": {
    "colab": {
     "base_uri": "https://localhost:8080/"
    },
    "id": "JaADthIebsOf",
    "outputId": "e7ab0148-6419-4034-8db6-116a444284ed"
   },
   "outputs": [
    {
     "data": {
      "text/plain": [
       "id: 4091, x: 396, y: 6, width: 396,height: 293, phrase: tall buildings with many windows, image: 1"
      ]
     },
     "execution_count": 19,
     "metadata": {
      "tags": []
     },
     "output_type": "execute_result"
    }
   ],
   "source": [
    "regions[261]"
   ]
  },
  {
   "cell_type": "code",
   "execution_count": 62,
   "metadata": {
    "colab": {
     "base_uri": "https://localhost:8080/"
    },
    "id": "a2QiimHOmfDR",
    "outputId": "8cdd6a67-93e3-4ecf-82f7-8f70e8db597d"
   },
   "outputs": [
    {
     "name": "stdout",
     "output_type": "stream",
     "text": [
      "[horse]\n",
      "[3015675: horse is brown]\n",
      "[]\n"
     ]
    }
   ],
   "source": [
    "# Region Graph: from REGION\n",
    "#graph = api.get_region_graph_of_region(id=0, region_id=17554)\n",
    "#graph = api.get_region_graph_of_region(image_id=1, region_id = 17554)\n",
    "graph = api.get_region_graph_of_region()\n",
    "print(graph.objects)\n",
    "print(graph.attributes)\n",
    "print(graph.relationships)"
   ]
  },
  {
   "cell_type": "code",
   "execution_count": 65,
   "metadata": {
    "colab": {
     "base_uri": "https://localhost:8080/"
    },
    "id": "JErXMjH1xJ6r",
    "outputId": "159b6f21-829b-4deb-c0d8-3d74bb5dda4b"
   },
   "outputs": [
    {
     "name": "stdout",
     "output_type": "stream",
     "text": [
      "[shade, street, sneakers, car, headlight, bike, tree trunk, back, clock, sign, building, shirt, car, glasses, parking meter, shoes, pants, man, jacket, pants, man, sidewalk, bike, work truck, street, guy, chin, van, wall, bikes, tree, arm, shirt, lamp post, trees, sidewalk, man, man, road, windows]\n",
      "[17554: clock is green, 17555: street is sidewalk, 17556: headlight is off, 17557: bike is parked, 17558: bike is parked, 17559: shirt is red, 17560: sidewalk is brick, 17561: car is white, 17562: bike is far away, 17563: bike is far away, 17564: sneakers is grey, 17565: shoes is brown, 17566: shirt is red, 17567: pants is black, 17568: jacket is gray, 17569: pants is gray, 17570: work truck is white, 17571: car is white, 2998770: shirt is red, 2998771: sign is black, 2998773: shirt is orange, 2998774: shoes is brown, 2998775: van is white, 2998776: chin is raised, 2998777: wall is grey, 4222458: building is made of bricks, 2998779: clock is green, 2998780: arm is raised, 2998781: shirt is grey, 2998782: clock is tall, 2998783: van is parked, 2998784: bike is chained, 2998788: pants is grey, 2998790: jacket is grey, 2998791: street is clean, 4222462: sidewalk is brick, 2998793: car is parked, 4222463: parking meter is orange, 2998795: pants is black, 4222464: trees is sparse, 2998797: work truck is white, 4222465: building is tall, 4222466: building is brick]\n",
      "[15927: shade ON street, 15928: man wears sneakers, 15929: car has headlight, 15930: sign ON building, 15931: tree trunk ON sidewalk, 15932: man has shirt, 15933: sidewalk next to street, 15934: car has back, 15935: man has glasses, 15936: parking meter ON sidewalk, 15937: man wears sneakers, 15938: man has shoes, 15939: man has shirt, 15940: man wears pants, 15941: man has jacket, 15942: man has pants, 15943: bike parked on sidewalk, 15944: bike parked on sidewalk, 15945: work truck parked on street, 15946: car parked on street, 4265923: bike ON sidewalk, 3186256: parking meter behind man, 3186257: guy holding chin, 3186258: man WEARING shirt, 3186259: man holding chin, 3186260: bikes near tree, 3186261: man WEARING shoes, 3186262: bikes near tree, 3186263: shirt ON man, 4265924: man holding chin, 4265925: man WEARING glasses, 4265926: lamp post along road, 3186264: man IN shirt, 3186265: man WEARING pants, 3186266: parking meter on top of street, 3186267: tree next to street, 3186268: man WEARING glasses, 3186269: bikes behind man, 3186270: trees by sidewalk, 3186271: man WEARING jacket, 4265927: building with windows]\n"
     ]
    }
   ],
   "source": [
    "# Retrieve the image 'scene graph'\n",
    "graph = api.get_scene_graph_of_image(id=1)\n",
    "\n",
    "# Secene Graph-Component 1: objects\n",
    "# Object names localized (within bounding boxes) in entire image \n",
    "mstr = graph.objects\n",
    "print(graph.objects)\n",
    "\n",
    "# Secene Graph-Component 2: attributes\n",
    "# Attributes modify the ojects (with bounding box IDs)\n",
    "print(graph.attributes)\n",
    "\n",
    "# Secene Graph-Component 3: relationships\n",
    "# Interactions b/w pairs of objects (with bounding box IDs)\n",
    "print(graph.relationships)"
   ]
  },
  {
   "cell_type": "code",
   "execution_count": null,
   "metadata": {
    "id": "IBmgbw4yh3aR"
   },
   "outputs": [],
   "source": []
  },
  {
   "cell_type": "code",
   "execution_count": 92,
   "metadata": {
    "id": "wNqKN8Uii91f"
   },
   "outputs": [],
   "source": [
    "# Retrieve the image 'scene graph'\n",
    "golden = 1\n",
    "#graph = api.get_scene_graph_of_image(id=golden)"
   ]
  },
  {
   "cell_type": "code",
   "execution_count": null,
   "metadata": {
    "id": "UrpYjxwhh0DY"
   },
   "outputs": [],
   "source": [
    "# Secene Graph-Component 1: objects\n",
    "# Object names localized (within bounding boxes) in entire image \n",
    "mstr = graph.objects\n",
    "print(graph.objects)\n",
    "\n",
    "# Secene Graph-Component 2: attributes\n",
    "# Attributes modify the ojects (with bounding box IDs)\n",
    "print(graph.attributes)\n",
    "\n",
    "# Secene Graph-Component 3: relationships\n",
    "# Interactions b/w pairs of objects (with bounding box IDs)\n",
    "print(graph.relationships)"
   ]
  },
  {
   "cell_type": "code",
   "execution_count": 86,
   "metadata": {
    "colab": {
     "base_uri": "https://localhost:8080/"
    },
    "id": "dL_KamM30fO4",
    "outputId": "d46f7358-48d6-4332-a6b0-c7a4a027905d"
   },
   "outputs": [
    {
     "data": {
      "text/plain": [
       "(40, shade, windows)"
      ]
     },
     "execution_count": 86,
     "metadata": {
      "tags": []
     },
     "output_type": "execute_result"
    }
   ],
   "source": [
    "len(mstr), mstr[0], mstr[-1]"
   ]
  },
  {
   "cell_type": "code",
   "execution_count": 93,
   "metadata": {
    "colab": {
     "base_uri": "https://localhost:8080/"
    },
    "id": "ttEh-dR5b9zW",
    "outputId": "9886abf7-31f7-405a-edb4-d225bb516634"
   },
   "outputs": [
    {
     "name": "stdout",
     "output_type": "stream",
     "text": [
      "shade\n"
     ]
    }
   ],
   "source": [
    "import numpy as np\n",
    "mstr = np.array(mstr)\n",
    "print(mstr[0])\n",
    "retreiver = np.where(mstr[golden] == 'dog')"
   ]
  },
  {
   "cell_type": "code",
   "execution_count": 95,
   "metadata": {
    "colab": {
     "base_uri": "https://localhost:8080/"
    },
    "id": "rxeJWO-9r9zA",
    "outputId": "7cb21e1c-f57b-4fee-c5d8-50e8a1e5bc79"
   },
   "outputs": [
    {
     "data": {
      "text/plain": [
       "(array([], dtype=int64),)"
      ]
     },
     "execution_count": 95,
     "metadata": {
      "tags": []
     },
     "output_type": "execute_result"
    }
   ],
   "source": [
    "retreiver"
   ]
  },
  {
   "cell_type": "code",
   "execution_count": 90,
   "metadata": {
    "colab": {
     "base_uri": "https://localhost:8080/"
    },
    "id": "jyUZ4dgin2Gd",
    "outputId": "3a6ffa4f-559e-4b37-c1ba-c0ce812cdd8f"
   },
   "outputs": [
    {
     "data": {
      "text/plain": [
       "numpy.ndarray"
      ]
     },
     "execution_count": 90,
     "metadata": {
      "tags": []
     },
     "output_type": "execute_result"
    }
   ],
   "source": [
    "type(mstr)"
   ]
  },
  {
   "cell_type": "code",
   "execution_count": null,
   "metadata": {
    "id": "rgU3SYuXn15N"
   },
   "outputs": [],
   "source": [
    "retreiver = np.where(mstr[golden] == 'dog')"
   ]
  },
  {
   "cell_type": "code",
   "execution_count": null,
   "metadata": {
    "id": "ucIrAm0Qn1lK"
   },
   "outputs": [],
   "source": []
  },
  {
   "cell_type": "code",
   "execution_count": 80,
   "metadata": {
    "colab": {
     "base_uri": "https://localhost:8080/"
    },
    "id": "S1rNOgE3KYpT",
    "outputId": "e3fec2bb-0ad9-4fea-86c6-cccf2fe73b7d"
   },
   "outputs": [
    {
     "name": "stdout",
     "output_type": "stream",
     "text": [
      "[shade, street, sneakers, car, headlight, bike, tree trunk, back, clock, sign, building, shirt, car, glasses, parking meter, shoes, pants, man, jacket, pants, man, sidewalk, bike, work truck, street, guy, chin, van, wall, bikes, tree, arm, shirt, lamp post, trees, sidewalk, man, man, road]\n"
     ]
    }
   ],
   "source": [
    "print(mstr[0:-1])"
   ]
  },
  {
   "cell_type": "code",
   "execution_count": 75,
   "metadata": {
    "colab": {
     "base_uri": "https://localhost:8080/"
    },
    "id": "tFMZaiE4KZsv",
    "outputId": "4c465a09-07d5-418b-93e6-8be6ebbae45f"
   },
   "outputs": [
    {
     "data": {
      "text/plain": [
       "(shade, shade, shade)"
      ]
     },
     "execution_count": 75,
     "metadata": {
      "tags": []
     },
     "output_type": "execute_result"
    }
   ],
   "source": [
    "mstr[0:-1][0], mstr[:][0], mstr[0]"
   ]
  },
  {
   "cell_type": "code",
   "execution_count": 81,
   "metadata": {
    "colab": {
     "base_uri": "https://localhost:8080/"
    },
    "id": "RekmR-PwQFpv",
    "outputId": "86bf40cd-280d-47c0-e9cd-796302659db3"
   },
   "outputs": [
    {
     "data": {
      "text/plain": [
       "(visual_genome.models.Object, bike, [headlight, bike])"
      ]
     },
     "execution_count": 81,
     "metadata": {
      "tags": []
     },
     "output_type": "execute_result"
    }
   ],
   "source": [
    "type(mstr[4]), mstr[5], mstr[4:6]"
   ]
  },
  {
   "cell_type": "code",
   "execution_count": null,
   "metadata": {
    "id": "3x5GlNEbQLQn"
   },
   "outputs": [],
   "source": []
  },
  {
   "cell_type": "code",
   "execution_count": null,
   "metadata": {
    "id": "2HreGL2YQlhn"
   },
   "outputs": [],
   "source": []
  }
 ],
 "metadata": {
  "colab": {
   "authorship_tag": "ABX9TyP27pceceNNxpLJ6FKtVavi",
   "collapsed_sections": [],
   "include_colab_link": true,
   "name": "Machines-Best-Friend.ipynb",
   "provenance": []
  },
  "kernelspec": {
   "display_name": "Python 3",
   "language": "python",
   "name": "python3"
  },
  "language_info": {
   "codemirror_mode": {
    "name": "ipython",
    "version": 3
   },
   "file_extension": ".py",
   "mimetype": "text/x-python",
   "name": "python",
   "nbconvert_exporter": "python",
   "pygments_lexer": "ipython3",
   "version": "3.8.3"
  }
 },
 "nbformat": 4,
 "nbformat_minor": 4
}
