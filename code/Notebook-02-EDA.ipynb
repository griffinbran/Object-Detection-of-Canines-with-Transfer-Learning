{
 "cells": [
  {
   "cell_type": "markdown",
   "metadata": {},
   "source": [
    "### Notebook 02: EDA"
   ]
  },
  {
   "cell_type": "code",
   "execution_count": 2,
   "metadata": {},
   "outputs": [],
   "source": [
    "# Import neccessary support\n",
    "import pandas as pd\n",
    "import numpy as np\n",
    "import cv2, os\n",
    "import random\n",
    "\n",
    "import matplotlib.pyplot as plt\n",
    "from sklearn.utils import shuffle\n",
    "from zipfile import ZipFile\n",
    "\n",
    "#import matplotlib.image as mpimg\n",
    "#from tensorflow.keras.models import Sequential \n",
    "#from tensorflow.keras.layers import Dense, Dropout, Flatten, Conv2D, MaxPooling2D\n",
    "#from tensorflow.keras.callbacks import EarlyStopping\n",
    "from tensorflow.keras.preprocessing import image\n",
    "\n",
    "# load VGG-16 model: 23 layers, 138,357,544 params, 528MB\n",
    "from keras.applications.vgg16 import VGG16\n",
    "# These models expect \n",
    "from tensorflow.keras.applications.vgg16 import preprocess_input, decode_predictions"
   ]
  },
  {
   "cell_type": "code",
   "execution_count": 3,
   "metadata": {},
   "outputs": [
    {
     "data": {
      "text/plain": [
       "(1240, list, '2377385', str)"
      ]
     },
     "execution_count": 3,
     "metadata": {},
     "output_type": "execute_result"
    }
   ],
   "source": [
    "# Load Image ID's from text file\n",
    "with open('../data/dog_data_part2.txt', 'r') as imagehandles:\n",
    "    # Store Image ID's as variable for image pre-processing, removing the endline character in the process\n",
    "    dog_data_part2 = [image_id[:-1] for image_id in imagehandles]\n",
    "# Check that all is copacetic\n",
    "len(dog_data_part2), type(dog_data_part2), dog_data_part2[0], type(dog_data_part2[0])"
   ]
  },
  {
   "cell_type": "markdown",
   "metadata": {},
   "source": [
    "### Instantiate VGG-16 Model<br>\n",
    ">  Image data format: Set in Keras JSON config file<br>\n",
    "> - Stored at  '~/.keras/keras.json'<br>\n",
    "{<br>\n",
    "    \"floatx\": \"float32\",<br>\n",
    "    \"epsilon\": 1e-07,<br>\n",
    "    \"backend\": \"tensorflow\",<br>\n",
    "    \"image_data_format\": \"channels_last\"<br>\n",
    "}<br><br>\n",
    "- NOTE: \"Channels Last = (height, width, depth)-TensorFlow data format convention<br>"
   ]
  },
  {
   "cell_type": "markdown",
   "metadata": {},
   "source": [
    "#### Vizualize filters and feature maps of CNNs with VGG-16"
   ]
  },
  {
   "cell_type": "code",
   "execution_count": 18,
   "metadata": {},
   "outputs": [
    {
     "name": "stdout",
     "output_type": "stream",
     "text": [
      "Model: \"vgg16\"\n",
      "_________________________________________________________________\n",
      "Layer (type)                 Output Shape              Param #   \n",
      "=================================================================\n",
      "input_2 (InputLayer)         [(None, 224, 224, 3)]     0         \n",
      "_________________________________________________________________\n",
      "block1_conv1 (Conv2D)        (None, 224, 224, 64)      1792      \n",
      "_________________________________________________________________\n",
      "block1_conv2 (Conv2D)        (None, 224, 224, 64)      36928     \n",
      "_________________________________________________________________\n",
      "block1_pool (MaxPooling2D)   (None, 112, 112, 64)      0         \n",
      "_________________________________________________________________\n",
      "block2_conv1 (Conv2D)        (None, 112, 112, 128)     73856     \n",
      "_________________________________________________________________\n",
      "block2_conv2 (Conv2D)        (None, 112, 112, 128)     147584    \n",
      "_________________________________________________________________\n",
      "block2_pool (MaxPooling2D)   (None, 56, 56, 128)       0         \n",
      "_________________________________________________________________\n",
      "block3_conv1 (Conv2D)        (None, 56, 56, 256)       295168    \n",
      "_________________________________________________________________\n",
      "block3_conv2 (Conv2D)        (None, 56, 56, 256)       590080    \n",
      "_________________________________________________________________\n",
      "block3_conv3 (Conv2D)        (None, 56, 56, 256)       590080    \n",
      "_________________________________________________________________\n",
      "block3_pool (MaxPooling2D)   (None, 28, 28, 256)       0         \n",
      "_________________________________________________________________\n",
      "block4_conv1 (Conv2D)        (None, 28, 28, 512)       1180160   \n",
      "_________________________________________________________________\n",
      "block4_conv2 (Conv2D)        (None, 28, 28, 512)       2359808   \n",
      "_________________________________________________________________\n",
      "block4_conv3 (Conv2D)        (None, 28, 28, 512)       2359808   \n",
      "_________________________________________________________________\n",
      "block4_pool (MaxPooling2D)   (None, 14, 14, 512)       0         \n",
      "_________________________________________________________________\n",
      "block5_conv1 (Conv2D)        (None, 14, 14, 512)       2359808   \n",
      "_________________________________________________________________\n",
      "block5_conv2 (Conv2D)        (None, 14, 14, 512)       2359808   \n",
      "_________________________________________________________________\n",
      "block5_conv3 (Conv2D)        (None, 14, 14, 512)       2359808   \n",
      "_________________________________________________________________\n",
      "block5_pool (MaxPooling2D)   (None, 7, 7, 512)         0         \n",
      "_________________________________________________________________\n",
      "flatten (Flatten)            (None, 25088)             0         \n",
      "_________________________________________________________________\n",
      "fc1 (Dense)                  (None, 4096)              102764544 \n",
      "_________________________________________________________________\n",
      "fc2 (Dense)                  (None, 4096)              16781312  \n",
      "_________________________________________________________________\n",
      "predictions (Dense)          (None, 1000)              4097000   \n",
      "=================================================================\n",
      "Total params: 138,357,544\n",
      "Trainable params: 138,357,544\n",
      "Non-trainable params: 0\n",
      "_________________________________________________________________\n"
     ]
    }
   ],
   "source": [
    "# load VGG-16 model: 23 layers, 138,357,544 params, 528MB\n",
    "from keras.applications.vgg16 import VGG16\n",
    "\n",
    "# Adjust input size of the model for include_top=False\n",
    "# new_input = Input(shape=(224,224,3)) --> MUST INCLUDE THIS PARAM AFTER CLASSIFICATION\n",
    "\n",
    "# load the model weights into memory\n",
    "# https://keras.io/api/applications/vgg/#vgg16-function\n",
    "model_vgg16 = VGG16(\n",
    "                include_top=True,   # include_top=False to load model wihtout the fully-connected output layers used to make predictions\n",
    "                weights=\"imagenet\", # Weights are downloaded automatically when instantiating a model: Keras Applications ~/.keras/models/\n",
    "                input_tensor=None,  # input_tensor = new_input = Input(shape=(224,224,3))\n",
    "                input_shape=None,\n",
    "                pooling=None,\n",
    "                classes=1000,\n",
    "                classifier_activation=\"softmax\",\n",
    "            )\n",
    "# Summarize the loaded model with all layers (include_top=True)\n",
    "model_vgg16.summary()"
   ]
  },
  {
   "cell_type": "markdown",
   "metadata": {},
   "source": [
    "#### Filter Summary (by network layer)"
   ]
  },
  {
   "cell_type": "code",
   "execution_count": 40,
   "metadata": {},
   "outputs": [
    {
     "name": "stdout",
     "output_type": "stream",
     "text": [
      "Layer Summary\tKernel Size: ( K x K )\t\n",
      "\n",
      "Number\t\tName\t\t(K, K, Depth, Nodes)\n",
      "Layer 1:\tblock1_conv1\t(3, 3, 3, 64)\n",
      "Layer 2:\tblock1_conv2\t(3, 3, 64, 64)\n",
      "Layer 4:\tblock2_conv1\t(3, 3, 64, 128)\n",
      "Layer 5:\tblock2_conv2\t(3, 3, 128, 128)\n",
      "Layer 7:\tblock3_conv1\t(3, 3, 128, 256)\n",
      "Layer 8:\tblock3_conv2\t(3, 3, 256, 256)\n",
      "Layer 9:\tblock3_conv3\t(3, 3, 256, 256)\n",
      "Layer 11:\tblock4_conv1\t(3, 3, 256, 512)\n",
      "Layer 12:\tblock4_conv2\t(3, 3, 512, 512)\n",
      "Layer 13:\tblock4_conv3\t(3, 3, 512, 512)\n",
      "Layer 15:\tblock5_conv1\t(3, 3, 512, 512)\n",
      "Layer 16:\tblock5_conv2\t(3, 3, 512, 512)\n",
      "Layer 17:\tblock5_conv3\t(3, 3, 512, 512)\n",
      "Layer 20:\tfc1\t(25088, 4096)\n",
      "Layer 21:\tfc2\t(4096, 4096)\n",
      "\n",
      "Layer 1: (3, 3, 3, 64)\n"
     ]
    }
   ],
   "source": [
    "# VGG-16 Layers with non-zero parameters\n",
    "layers_VGG16 = [ 1, 2, 4, 5, 7, 8, 9, 11, 12, 13, 15, 16, 17, 20, 21, 22 ]\n",
    "# Choose a layer to perform feature extraction\n",
    "layer_VGG16  = 0\n",
    "# summarize filter shapes\n",
    "print('Layer Summary\\tKernel Size: ( K x K )\\t')\n",
    "print()\n",
    "print('Number\\t\\tName\\t\\t(K, K, Depth, Nodes)')\n",
    "# Loop thru each layer in ImageNet Model to summarize\n",
    "for layer in model_vgg16.layers:\n",
    "    # check for convolutional layer\n",
    "    if ('conv' not in layer.name) & ('fc' not in layer.name):\n",
    "        layer_VGG16 += 1\n",
    "        continue # Exclude fully connected layers & return to loop beginning\n",
    "    # get filter weights\n",
    "    filters, biases = layer.get_weights()\n",
    "    print(f'Layer {layer_VGG16}:\\t{layer.name}\\t{filters.shape}')\n",
    "    layer_VGG16 += 1\n",
    "print()\n",
    "\n",
    "# Select layer from VGG-16 layers list above to retrieve weights\n",
    "layer_number = layers_VGG16[0]\n",
    "# Retrieve current weights from selected hidden layer: 'layer_number'\n",
    "# Weights rep state of layer, get_weights loads state into similarly parameterized layers\n",
    "filters_extract, biases_extract = model_vgg16.layers[layer_number].get_weights()\n",
    "print(f'Layer {layer_number}: {filters_extract.shape}')"
   ]
  },
  {
   "cell_type": "code",
   "execution_count": 70,
   "metadata": {},
   "outputs": [
    {
     "data": {
      "text/plain": [
       "((3, 3, 3, 64), numpy.ndarray)"
      ]
     },
     "execution_count": 70,
     "metadata": {},
     "output_type": "execute_result"
    }
   ],
   "source": [
    "# (kernel-height, kernel-width, channel-depth, No. of filters)\n",
    "# 64-filters each (3 x 3 x 3) 3D volume, cubic filters\n",
    "filters_extract.shape, type(filters_extract)"
   ]
  },
  {
   "cell_type": "code",
   "execution_count": 227,
   "metadata": {},
   "outputs": [
    {
     "data": {
      "text/plain": [
       "((3, 64),\n",
       " array([[[0.2410788 , 0.14405024, 0.17188708],\n",
       "         [0.21905349, 0.13779737, 0.1578574 ],\n",
       "         [0.22949417, 0.12949093, 0.16341406]],\n",
       " \n",
       "        [[0.22994165, 0.14908592, 0.17978509],\n",
       "         [0.1863384 , 0.16121466, 0.18800756],\n",
       "         [0.11930275, 0.        , 0.04622722]],\n",
       " \n",
       "        [[0.22533065, 0.14236566, 0.17052189],\n",
       "         [0.20956579, 0.09347925, 0.15874107],\n",
       "         [0.22243272, 0.13306199, 0.17015679]]], dtype=float32))"
      ]
     },
     "execution_count": 227,
     "metadata": {},
     "output_type": "execute_result"
    }
   ],
   "source": [
    "filters_extract[0][0].shape, filters_extract.min(3),"
   ]
  },
  {
   "cell_type": "code",
   "execution_count": 220,
   "metadata": {},
   "outputs": [
    {
     "data": {
      "text/plain": [
       "array([[[0.8601116 , 0.9545779 , 0.89960235],\n",
       "        [0.915383  , 1.        , 0.96599036],\n",
       "        [0.8567038 , 0.97389966, 0.925328  ]],\n",
       "\n",
       "       [[0.810127  , 0.86608565, 0.84025717],\n",
       "        [0.90729994, 0.9373233 , 0.91953784],\n",
       "        [0.87189955, 0.9382962 , 0.90447164]],\n",
       "\n",
       "       [[0.779941  , 0.8438289 , 0.8172243 ],\n",
       "        [0.8836065 , 0.9460532 , 0.92962444],\n",
       "        [0.8408625 , 0.8799469 , 0.8426137 ]]], dtype=float32)"
      ]
     },
     "execution_count": 220,
     "metadata": {},
     "output_type": "execute_result"
    }
   ],
   "source": [
    " filters_extract.max(3)"
   ]
  },
  {
   "cell_type": "markdown",
   "metadata": {},
   "source": [
    "#### Visualize Second Layer (First Conv2D Layer immediately following the input layer)"
   ]
  },
  {
   "cell_type": "code",
   "execution_count": 82,
   "metadata": {},
   "outputs": [
    {
     "name": "stdout",
     "output_type": "stream",
     "text": [
      "\tLayer 1:  FILTER #\n"
     ]
    },
    {
     "data": {
      "image/png": "[encoded data removed]",
      "text/plain": [
       "<Figure size 432x288 with 12 Axes>"
      ]
     },
     "metadata": {},
     "output_type": "display_data"
    }
   ],
   "source": [
    "# normalize filter values to 0-1 so we can visualize them\n",
    "f_min, f_max = filters_extract.min(), filters_extract.max()\n",
    "# Sets the minimum to zero and the maximum to one\n",
    "filters_extract = (filters_extract - f_min) / (f_max - f_min)\n",
    "\n",
    "# plot first few filters\n",
    "n_filters, ix = 4, 1\n",
    "for i in range(n_filters):\n",
    "    # get the filter\n",
    "    f = filters_extract[:, :, :, i]\n",
    "    # plot each channel separately\n",
    "    for j in range(3):\n",
    "        # specify subplot and turn of axis\n",
    "        if j == 0:\n",
    "            c = '\\nBLUE'\n",
    "            color_map = 'Blues'\n",
    "        elif j == 1:\n",
    "            c = '\\nGREEN'\n",
    "            color_map = 'Greens'\n",
    "        else:\n",
    "            c ='\\nRED'\n",
    "            color_map = 'Reds'\n",
    "        ax = plt.subplot(n_filters, 3, ix, fc='grey')\n",
    "        ax.set_xticks([])\n",
    "        ax.set_yticks([])\n",
    "        plt.xlabel(xlabel=c,color='w')\n",
    "        plt.ylabel(ylabel=f'  \\n\\n{i+1}',color='w',rotation=0)\n",
    "        # plot filter channel in grayscale\n",
    "        plt.imshow(f[:, :, j], cmap=color_map)\n",
    "        ix += 1\n",
    "#print('\\t\\t FILTER #')\n",
    "print(f'\\tLayer {layer_number}:  FILTER #')"
   ]
  },
  {
   "cell_type": "markdown",
   "metadata": {},
   "source": [
    "#### Test Visual Genome Dog Data, chosen at random, on VGG-16 Loaded Weights"
   ]
  },
  {
   "cell_type": "code",
   "execution_count": 228,
   "metadata": {},
   "outputs": [
    {
     "name": "stdout",
     "output_type": "stream",
     "text": [
      "Prediction: (for random dog = 2382269) \n",
      "\n",
      "\t45.91%\t:marimba\n",
      "\t9.28%\t:stage\n",
      "\t8.05%\t:container_ship\n",
      "\t4.88%\t:palace\n",
      "\t4.32%\t:panpipe\n"
     ]
    }
   ],
   "source": [
    "# NOTICE, SOME CODE IN THIS CELL FROM:\n",
    "# https://thispointer.com/python-how-to-get-the-list-of-all-files-in-a-zip-archive/\n",
    "\n",
    "# Input shape acrandom_dogby VGG-16 = 224 x 224 x3\n",
    "img_height = 224\n",
    "img_width = 224\n",
    "\n",
    "# Choose a dog randomly to test breed accuracy\n",
    "dog_pic_x = random.randint(0, len(dog_data_part2)-1)\n",
    "random_dog = int(dog_data_part2[dog_pic_x])\n",
    "\n",
    "# ~5.5 GB ZIP Archive, 40% of total data set\n",
    "# Open, read, and close ZIP file for faster image pre-processing\n",
    "with ZipFile('../../visual_genome_part2.zip', \"r\") as z:\n",
    "    # One file in zip archive\n",
    "    VG_100K_2 = z.namelist()\n",
    "\n",
    "    # Iterate over image file names, 'VG_100K_2/image_id.jpg'\n",
    "    for ith_image in VG_100K_2: \n",
    "        # Get extension of file, '.jpg'\n",
    "        ext = os.path.splitext(ith_image)[-1]\n",
    "        # Get root of file, root = VG_100K_2/image_id.jpg\n",
    "        root = os.path.splitext(ith_image)[0]\n",
    "        \n",
    "        # Skip over Archive Directory\n",
    "        if (ext == \".jpg\"):\n",
    "            \n",
    "            # Skip root[:10]='VG_100K_2' in dog_pic_ids\n",
    "            if int(root[10:]) == random_dog:\n",
    "                \n",
    "                # Read image binary data of 'VG_100K_2' from zip archive('visual_genome_part2.zip')\n",
    "                in_bytes = z.read(ith_image) # VG_100K_2/\n",
    "                # Decode bytes to image\n",
    "                img = cv2.imdecode(np.frombuffer(in_bytes, np.uint8), cv2.IMREAD_COLOR)\n",
    "                # Input shape accepted by VGG-16 = 224 x 224 x3\n",
    "                img = cv2.resize(img, dsize=(img_width, img_height))\n",
    "                # Convert a PIL image instance to a Numpy array\n",
    "                dog_x = image.img_to_array(img)\n",
    "                # Expand the shape of the array: Insert new axis at 'axis' position in expanded array shape\n",
    "                dog_x = np.expand_dims(dog_x, axis=0)\n",
    "                # Returns array with type: 'float32', covert: RGB --> BGR, & zero-center each channel wrt ImageNet dataset\n",
    "                dog_x = preprocess_input(dog_x)\n",
    "                \n",
    "                # Extract features from image_id = dog_x with VGG-16\n",
    "                preds = model_vgg16.predict(dog_x)\n",
    "\n",
    "                # Decode extracted features into class, description, and probability\n",
    "                preds_class_breed_score = decode_predictions(preds, top=5)[0]\n",
    "                \n",
    "                # Display the prediction corresponding to the image\n",
    "                print(f'Prediction: (for random dog = {random_dog}) \\n')\n",
    "                for i in range(len(preds_class_breed_score)):\n",
    "                    print(f'\\t{preds_class_breed_score[i][2]*100:.2f}%\\t:{preds_class_breed_score[i][1]}')\n",
    "\n",
    "                # Output img with window name as 'image' \n",
    "                cv2.imshow('img', img)\n",
    "                \n",
    "                # Display for 30 secs = 1_000ms * 30\n",
    "                #cv2.waitKey(30*1000)\n",
    "                \n",
    "                # Display image indefinitely\n",
    "                cv2.waitKey(0)\n",
    "\n",
    "cv2.destroyAllWindows()"
   ]
  },
  {
   "cell_type": "code",
   "execution_count": null,
   "metadata": {},
   "outputs": [],
   "source": [
    "#model.save('/../assets/model.h5')\n",
    "\n",
    "print(\"Saved model to disk\")\n",
    "#del model"
   ]
  },
  {
   "cell_type": "code",
   "execution_count": 88,
   "metadata": {},
   "outputs": [
    {
     "name": "stdout",
     "output_type": "stream",
     "text": [
      "Prediction: \n",
      "\n",
      "\t37.11%\t:keeshond\n",
      "\t13.47%\t:schipperke\n",
      "\t8.45%\t:Newfoundland\n",
      "\t7.30%\t:groenendael\n",
      "\t6.35%\t:Norwegian_elkhound\n"
     ]
    }
   ],
   "source": [
    "img_path = '../../visual_genome_part2/VG_100K_2/2405343.jpg'\n",
    "img = image.load_img(img_path, target_size=(224, 224))\n",
    "dog_x = image.img_to_array(img)\n",
    "dog_x = np.expand_dims(dog_x, axis=0)\n",
    "dog_x = preprocess_input(dog_x)\n",
    "\n",
    "# Extract features from image_id = dog_x with VGG-16\n",
    "preds = model_vgg16.predict(dog_x)\n",
    "\n",
    "# Decode extracted features into class, description, and probability\n",
    "\n",
    "preds_class_breed_score = decode_predictions(preds, top=5)[0]\n",
    "print('Prediction: \\n')\n",
    "for i in range(len(preds_class_breed_score)):\n",
    "    print(f'\\t{preds_class_breed_score[i][2]*100:.2f}%\\t:{preds_class_breed_score[i][1]}')"
   ]
  }
 ],
 "metadata": {
  "kernelspec": {
   "display_name": "Python [conda env:dsi]",
   "language": "python",
   "name": "conda-env-dsi-py"
  },
  "language_info": {
   "codemirror_mode": {
    "name": "ipython",
    "version": 3
   },
   "file_extension": ".py",
   "mimetype": "text/x-python",
   "name": "python",
   "nbconvert_exporter": "python",
   "pygments_lexer": "ipython3",
   "version": "3.8.3"
  }
 },
 "nbformat": 4,
 "nbformat_minor": 4
}
